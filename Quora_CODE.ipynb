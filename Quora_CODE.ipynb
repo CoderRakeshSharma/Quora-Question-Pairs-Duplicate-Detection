{
  "cells": [
    {
      "cell_type": "markdown",
      "id": "54b7a835",
      "metadata": {
        "id": "54b7a835"
      },
      "source": [
        "# AI-ClientProject-4 --> Quora Question Pairs"
      ]
    },
    {
      "cell_type": "markdown",
      "id": "22f8cc82",
      "metadata": {
        "id": "22f8cc82"
      },
      "source": [
        "### PROJECT GOAL\n",
        "##### Create a model that can predict which of the provided pairs of questions contain two questions with the same meaning."
      ]
    },
    {
      "cell_type": "code",
      "execution_count": 20,
      "id": "Nx6vMRETBIw4",
      "metadata": {
        "id": "Nx6vMRETBIw4"
      },
      "outputs": [],
      "source": [
        "# Installing libraries which are needed for loading, processing, and modeling our question-pair data.\n",
        "!pip install -q pandas numpy scikit-learn sentence-transformers"
      ]
    },
    {
      "cell_type": "code",
      "execution_count": 82,
      "id": "48daf8f6",
      "metadata": {
        "id": "48daf8f6"
      },
      "outputs": [],
      "source": [
        "# 📦 Data Handling\n",
        "import pandas as pd\n",
        "import numpy as np\n",
        "\n",
        "# 🧮 Utility Tools\n",
        "from tqdm import tqdm                     # Progress bar for loops\n",
        "import warnings                           # Suppress warnings\n",
        "warnings.filterwarnings(\"ignore\", category=UserWarning)\n",
        "\n",
        "# 📈 Visualization\n",
        "import matplotlib.pyplot as plt\n",
        "import seaborn as sns\n",
        "\n",
        "# 🤗 Text Embedding / Feature Extraction\n",
        "from sentence_transformers import SentenceTransformer\n",
        "\n",
        "# 🧠 Similarity & Metrics\n",
        "from sklearn.metrics.pairwise import cosine_similarity\n",
        "from sklearn.metrics import (\n",
        "    accuracy_score, precision_score, recall_score,\n",
        "    f1_score, roc_auc_score\n",
        ")\n",
        "\n",
        "# 🧪 Model Training & Evaluation\n",
        "from sklearn.model_selection import train_test_split\n",
        "from sklearn.linear_model import LogisticRegression\n",
        "from sklearn.ensemble import RandomForestClassifier, GradientBoostingClassifier\n",
        "from sklearn.neighbors import KNeighborsClassifier\n",
        "from sklearn.neural_network import MLPClassifier\n",
        "\n",
        "# 💾 Model Saving/Loading\n",
        "import joblib"
      ]
    },
    {
      "cell_type": "code",
      "execution_count": 22,
      "id": "e5401d8e",
      "metadata": {
        "colab": {
          "base_uri": "https://localhost:8080/",
          "height": 206
        },
        "id": "e5401d8e",
        "outputId": "d050cdfc-778b-4760-d70f-cb20a987d6f3"
      },
      "outputs": [
        {
          "data": {
            "text/html": [
              "<div>\n",
              "<style scoped>\n",
              "    .dataframe tbody tr th:only-of-type {\n",
              "        vertical-align: middle;\n",
              "    }\n",
              "\n",
              "    .dataframe tbody tr th {\n",
              "        vertical-align: top;\n",
              "    }\n",
              "\n",
              "    .dataframe thead th {\n",
              "        text-align: right;\n",
              "    }\n",
              "</style>\n",
              "<table border=\"1\" class=\"dataframe\">\n",
              "  <thead>\n",
              "    <tr style=\"text-align: right;\">\n",
              "      <th></th>\n",
              "      <th>question1</th>\n",
              "      <th>question2</th>\n",
              "      <th>is_duplicate</th>\n",
              "    </tr>\n",
              "  </thead>\n",
              "  <tbody>\n",
              "    <tr>\n",
              "      <th>8067</th>\n",
              "      <td>How do I play Pokémon GO in Korea?</td>\n",
              "      <td>How do I play Pokémon GO in China?</td>\n",
              "      <td>0</td>\n",
              "    </tr>\n",
              "    <tr>\n",
              "      <th>368101</th>\n",
              "      <td>What are some of the best side dishes for crab...</td>\n",
              "      <td>What are some good side dishes for buffalo chi...</td>\n",
              "      <td>0</td>\n",
              "    </tr>\n",
              "    <tr>\n",
              "      <th>70497</th>\n",
              "      <td>Which is more advisable and better material fo...</td>\n",
              "      <td>What is the best server setup for buddypress?</td>\n",
              "      <td>0</td>\n",
              "    </tr>\n",
              "    <tr>\n",
              "      <th>226567</th>\n",
              "      <td>How do I improve logical programming skills?</td>\n",
              "      <td>How can I improve my logical skills for progra...</td>\n",
              "      <td>1</td>\n",
              "    </tr>\n",
              "    <tr>\n",
              "      <th>73186</th>\n",
              "      <td>How close we are to see 3rd world war?</td>\n",
              "      <td>How close is a World War III?</td>\n",
              "      <td>1</td>\n",
              "    </tr>\n",
              "  </tbody>\n",
              "</table>\n",
              "</div>"
            ],
            "text/plain": [
              "                                                question1  \\\n",
              "8067                   How do I play Pokémon GO in Korea?   \n",
              "368101  What are some of the best side dishes for crab...   \n",
              "70497   Which is more advisable and better material fo...   \n",
              "226567       How do I improve logical programming skills?   \n",
              "73186              How close we are to see 3rd world war?   \n",
              "\n",
              "                                                question2  is_duplicate  \n",
              "8067                   How do I play Pokémon GO in China?             0  \n",
              "368101  What are some good side dishes for buffalo chi...             0  \n",
              "70497       What is the best server setup for buddypress?             0  \n",
              "226567  How can I improve my logical skills for progra...             1  \n",
              "73186                       How close is a World War III?             1  "
            ]
          },
          "execution_count": 22,
          "metadata": {},
          "output_type": "execute_result"
        }
      ],
      "source": [
        "#This step loads and reduces the dataset to a manageable size and ensures data quality.\n",
        "df = pd.read_csv(\"train.csv\") #Load the data\n",
        "df = df.sample(40000, random_state=42) #Randomly selects 20,000 rows to make training faster.\n",
        "df = df.dropna() #Removes rows with missing values (essential to avoid errors during training).\n",
        "df = df[['question1', 'question2', 'is_duplicate']] #Keeps only the relevant columns.\n",
        "df.head() #Displays the first 5 rows (useful for inspection)."
      ]
    },
    {
      "cell_type": "code",
      "execution_count": 23,
      "id": "8yIqhe9qHF6V",
      "metadata": {
        "colab": {
          "base_uri": "https://localhost:8080/",
          "height": 178
        },
        "id": "8yIqhe9qHF6V",
        "outputId": "a87b5e9a-bd5d-44c1-e7c6-3afbcbc315da"
      },
      "outputs": [
        {
          "data": {
            "text/plain": [
              "is_duplicate\n",
              "0    25224\n",
              "1    14776\n",
              "Name: count, dtype: int64"
            ]
          },
          "execution_count": 23,
          "metadata": {},
          "output_type": "execute_result"
        }
      ],
      "source": [
        "#Counts how many duplicate vs. non-duplicate pairs exist\n",
        "df['is_duplicate'].value_counts()"
      ]
    },
    {
      "cell_type": "code",
      "execution_count": 24,
      "id": "BwCBIP2MG967",
      "metadata": {
        "colab": {
          "base_uri": "https://localhost:8080/",
          "height": 462
        },
        "id": "BwCBIP2MG967",
        "outputId": "072c8eee-8261-4825-ae4c-d3802f1582cf"
      },
      "outputs": [
        {
          "data": {
            "text/plain": [
              "<Axes: xlabel='is_duplicate'>"
            ]
          },
          "execution_count": 24,
          "metadata": {},
          "output_type": "execute_result"
        },
        {
          "data": {
            "image/png": "[encoded data removed]",
            "text/plain": [
              "<Figure size 640x480 with 1 Axes>"
            ]
          },
          "metadata": {},
          "output_type": "display_data"
        }
      ],
      "source": [
        "#Bar plot showing how many duplicate (1) vs. non-duplicate (0) question pairs exist.\n",
        "df['is_duplicate'].value_counts().plot(kind='bar')"
      ]
    },
    {
      "cell_type": "code",
      "execution_count": 25,
      "id": "TqOUraSyfJk6",
      "metadata": {
        "id": "TqOUraSyfJk6"
      },
      "outputs": [],
      "source": [
        "#This step transforms each question pair into numerical features that can be fed to a machine learning model.\n",
        "embedder = SentenceTransformer('all-mpnet-base-v2')"
      ]
    },
    {
      "cell_type": "code",
      "execution_count": 26,
      "id": "4vkr7qi8fcOS",
      "metadata": {
        "id": "4vkr7qi8fcOS"
      },
      "outputs": [],
      "source": [
        "def extract_features(q1, q2):\n",
        "    # 🔤 Generate sentence embeddings\n",
        "    vec1 = embedder.encode([q1])\n",
        "    vec2 = embedder.encode([q2])\n",
        "\n",
        "    # 📏 Compute cosine similarity between embeddings\n",
        "    cos_sim = cosine_similarity(vec1, vec2)[0][0]\n",
        "\n",
        "    # 🔡 Token-based features\n",
        "    tokens1 = set(q1.lower().split())\n",
        "    tokens2 = set(q2.lower().split())\n",
        "\n",
        "    # 🔁 Common words ratio\n",
        "    common_words_ratio = len(tokens1 & tokens2) / max(len(tokens1 | tokens2), 1)\n",
        "\n",
        "    # 📏 Absolute character length difference\n",
        "    abs_len_diff = abs(len(q1) - len(q2))\n",
        "\n",
        "    return [cos_sim, common_words_ratio, abs_len_diff]"
      ]
    },
    {
      "cell_type": "code",
      "execution_count": 27,
      "id": "aJJ0Xt_SSe2j",
      "metadata": {
        "colab": {
          "base_uri": "https://localhost:8080/"
        },
        "id": "aJJ0Xt_SSe2j",
        "outputId": "9d560eec-581e-48a0-cf03-6a906c74ea0f"
      },
      "outputs": [
        {
          "name": "stderr",
          "output_type": "stream",
          "text": [
            "100%|██████████| 40000/40000 [59:18<00:00, 11.24it/s]  \n"
          ]
        }
      ],
      "source": [
        "# Extract features\n",
        "features = []\n",
        "for q1, q2 in tqdm(zip(df['question1'], df['question2']), total=len(df)):\n",
        "    features.append(extract_features(q1, q2))"
      ]
    },
    {
      "cell_type": "code",
      "execution_count": 57,
      "id": "ScOMp_vWSs85",
      "metadata": {
        "id": "ScOMp_vWSs85"
      },
      "outputs": [],
      "source": [
        "# Convert to DataFrame\n",
        "X = pd.DataFrame(features, columns=[\"cos_sim\", \"common_words_ratio\", \"abs_len_diff\"])\n",
        "y = df['is_duplicate'].values"
      ]
    },
    {
      "cell_type": "code",
      "execution_count": 58,
      "id": "d67778a6",
      "metadata": {},
      "outputs": [],
      "source": [
        "#Splits data into 80% training and 20% testing.\n",
        "X_train, X_test, y_train, y_test = train_test_split(X, y, test_size=0.2, random_state=42)"
      ]
    },
    {
      "cell_type": "code",
      "execution_count": 60,
      "id": "d5b5b077",
      "metadata": {},
      "outputs": [],
      "source": [
        "models = {\n",
        "    \"Logistic Regression\": LogisticRegression(max_iter=1000, class_weight='balanced'),\n",
        "    \"Random Forest\": RandomForestClassifier(),\n",
        "    \"Gradient Boosting\": GradientBoostingClassifier(),\n",
        "    \"K-Nearest Neighbors\": KNeighborsClassifier(),\n",
        "    \"MLP Classifier\": MLPClassifier(max_iter=300),\n",
        "}"
      ]
    },
    {
      "cell_type": "code",
      "execution_count": null,
      "id": "55ee5b14",
      "metadata": {},
      "outputs": [],
      "source": [
        "results = []\n",
        "\n",
        "for name, model in models.items():\n",
        "    try:\n",
        "        model.fit(X_train, y_train)\n",
        "        y_pred = model.predict(X_test)\n",
        "        y_proba = model.predict_proba(X_test)[:, 1] if hasattr(model, \"predict_proba\") else None\n",
        "\n",
        "        result = {\n",
        "            \"Model\": name,\n",
        "            \"Accuracy\": accuracy_score(y_test, y_pred),\n",
        "            \"Precision\": precision_score(y_test, y_pred),\n",
        "            \"Recall\": recall_score(y_test, y_pred),\n",
        "            \"F1 Score\": f1_score(y_test, y_pred),\n",
        "            \"ROC AUC\": roc_auc_score(y_test, y_proba) if y_proba is not None else \"N/A\"\n",
        "        }\n",
        "        results.append(result)\n",
        "    except Exception as e:\n",
        "        print(f\"Model {name} failed with error: {e}\")\n",
        "\n",
        "\n"
      ]
    },
    {
      "cell_type": "markdown",
      "id": "0yG1YXHy1lGX",
      "metadata": {
        "id": "0yG1YXHy1lGX"
      },
      "source": [
        "## **Model Evaluation**"
      ]
    },
    {
      "cell_type": "code",
      "execution_count": 62,
      "id": "fc473640",
      "metadata": {},
      "outputs": [
        {
          "data": {
            "text/html": [
              "<div>\n",
              "<style scoped>\n",
              "    .dataframe tbody tr th:only-of-type {\n",
              "        vertical-align: middle;\n",
              "    }\n",
              "\n",
              "    .dataframe tbody tr th {\n",
              "        vertical-align: top;\n",
              "    }\n",
              "\n",
              "    .dataframe thead th {\n",
              "        text-align: right;\n",
              "    }\n",
              "</style>\n",
              "<table border=\"1\" class=\"dataframe\">\n",
              "  <thead>\n",
              "    <tr style=\"text-align: right;\">\n",
              "      <th></th>\n",
              "      <th>Model</th>\n",
              "      <th>Accuracy</th>\n",
              "      <th>Precision</th>\n",
              "      <th>Recall</th>\n",
              "      <th>F1 Score</th>\n",
              "      <th>ROC AUC</th>\n",
              "    </tr>\n",
              "  </thead>\n",
              "  <tbody>\n",
              "    <tr>\n",
              "      <th>2</th>\n",
              "      <td>Gradient Boosting</td>\n",
              "      <td>0.839250</td>\n",
              "      <td>0.755507</td>\n",
              "      <td>0.830208</td>\n",
              "      <td>0.791098</td>\n",
              "      <td>0.916075</td>\n",
              "    </tr>\n",
              "    <tr>\n",
              "      <th>4</th>\n",
              "      <td>MLP Classifier</td>\n",
              "      <td>0.836250</td>\n",
              "      <td>0.749616</td>\n",
              "      <td>0.830890</td>\n",
              "      <td>0.788163</td>\n",
              "      <td>0.912862</td>\n",
              "    </tr>\n",
              "    <tr>\n",
              "      <th>1</th>\n",
              "      <td>Random Forest</td>\n",
              "      <td>0.818000</td>\n",
              "      <td>0.741103</td>\n",
              "      <td>0.773952</td>\n",
              "      <td>0.757171</td>\n",
              "      <td>0.897816</td>\n",
              "    </tr>\n",
              "    <tr>\n",
              "      <th>0</th>\n",
              "      <td>Logistic Regression</td>\n",
              "      <td>0.814625</td>\n",
              "      <td>0.690890</td>\n",
              "      <td>0.894647</td>\n",
              "      <td>0.779676</td>\n",
              "      <td>0.903997</td>\n",
              "    </tr>\n",
              "    <tr>\n",
              "      <th>3</th>\n",
              "      <td>K-Nearest Neighbors</td>\n",
              "      <td>0.811750</td>\n",
              "      <td>0.730682</td>\n",
              "      <td>0.770542</td>\n",
              "      <td>0.750083</td>\n",
              "      <td>0.878961</td>\n",
              "    </tr>\n",
              "  </tbody>\n",
              "</table>\n",
              "</div>"
            ],
            "text/plain": [
              "                 Model  Accuracy  Precision    Recall  F1 Score   ROC AUC\n",
              "2    Gradient Boosting  0.839250   0.755507  0.830208  0.791098  0.916075\n",
              "4       MLP Classifier  0.836250   0.749616  0.830890  0.788163  0.912862\n",
              "1        Random Forest  0.818000   0.741103  0.773952  0.757171  0.897816\n",
              "0  Logistic Regression  0.814625   0.690890  0.894647  0.779676  0.903997\n",
              "3  K-Nearest Neighbors  0.811750   0.730682  0.770542  0.750083  0.878961"
            ]
          },
          "metadata": {},
          "output_type": "display_data"
        }
      ],
      "source": [
        "# Create DataFrame\n",
        "results_df = pd.DataFrame(results)\n",
        "results_df.sort_values(by=\"Accuracy\", ascending=False, inplace=True)\n",
        "display(results_df)"
      ]
    },
    {
      "cell_type": "code",
      "execution_count": 81,
      "id": "433bf197",
      "metadata": {},
      "outputs": [
        {
          "data": {
            "image/png": "[encoded data removed]",
            "text/plain": [
              "<Figure size 1000x600 with 1 Axes>"
            ]
          },
          "metadata": {},
          "output_type": "display_data"
        }
      ],
      "source": [
        "# Set the plot style\n",
        "plt.figure(figsize=(10, 6))\n",
        "ax = sns.barplot(x=\"Accuracy\", y=\"Model\", hue=\"Model\", data=results_df, palette=\"magma\", legend=False)\n",
        "\n",
        "# Add labels and title\n",
        "plt.title(\"Model Comparison by Accuracy\", fontsize=14)\n",
        "plt.xlabel(\"Accuracy Score\")\n",
        "plt.ylabel(\"Model\")\n",
        "plt.xlim(0.7, 0.9)\n",
        "plt.grid(axis='x', linestyle='--', alpha=0.7)\n",
        "\n",
        "# Add accuracy values on bars\n",
        "for i, (accuracy, model) in enumerate(zip(results_df[\"Accuracy\"], results_df[\"Model\"])):\n",
        "    ax.text(accuracy + 0.002, i, f\"{accuracy:.6f}\", color='black', va='center', fontsize=10)\n",
        "\n",
        "# Show plot\n",
        "plt.tight_layout()\n",
        "plt.show()\n"
      ]
    },
    {
      "cell_type": "code",
      "execution_count": 63,
      "id": "bffe86c9",
      "metadata": {},
      "outputs": [
        {
          "name": "stdout",
          "output_type": "stream",
          "text": [
            "Best model: Gradient Boosting\n"
          ]
        }
      ],
      "source": [
        "# Find best model based on F1 Score\n",
        "best_result = max(results, key=lambda x: x[\"F1 Score\"])\n",
        "best_model_name = best_result[\"Model\"]\n",
        "print(f\"Best model: {best_model_name}\")"
      ]
    },
    {
      "cell_type": "code",
      "execution_count": 64,
      "id": "feed171a",
      "metadata": {},
      "outputs": [],
      "source": [
        "# Retrieve the trained model object\n",
        "best_model = models[best_model_name]"
      ]
    },
    {
      "cell_type": "code",
      "execution_count": 65,
      "id": "9d86c62b",
      "metadata": {},
      "outputs": [
        {
          "name": "stdout",
          "output_type": "stream",
          "text": [
            "Best model saved as best_model.pkl\n"
          ]
        }
      ],
      "source": [
        "# Save the best model\n",
        "joblib.dump(best_model, \"best_model.pkl\")\n",
        "print(\"Best model saved as best_model.pkl\")"
      ]
    },
    {
      "cell_type": "code",
      "execution_count": 66,
      "id": "aXEGt82gWSXy",
      "metadata": {
        "id": "aXEGt82gWSXy"
      },
      "outputs": [],
      "source": [
        "# Load the saved model\n",
        "loaded_model = joblib.load(\"best_model.pkl\")"
      ]
    },
    {
      "cell_type": "code",
      "execution_count": null,
      "id": "zbJKiAinj795",
      "metadata": {
        "id": "zbJKiAinj795"
      },
      "outputs": [],
      "source": [
        "#Predict whether two questions are duplicates using the trained model.\n",
        "\n",
        "def predict_duplicate(q1, q2):\n",
        "    # Extract features and reshape for model input\n",
        "    features = np.array(extract_features(q1, q2)).reshape(1, -1)\n",
        "\n",
        "    # Predict using the trained model\n",
        "    pred = loaded_model.predict_proba(features)[0][1]\n",
        "    label = \"Duplicate\" if pred >= 0.5 else \"Not Duplicate\"\n",
        "\n",
        "    # Return human-readable result\n",
        "    return f\"{label} (Confidence Value: {pred:.2f})\"\n"
      ]
    },
    {
      "cell_type": "markdown",
      "id": "jD3c9yW-yGZZ",
      "metadata": {
        "id": "jD3c9yW-yGZZ"
      },
      "source": [
        "## **Testing The Performance Of Our Model**\n",
        "##### Note: - If Confidence Value is below 0.5 then the Model will Predict the result as not Duplicate"
      ]
    },
    {
      "cell_type": "code",
      "execution_count": 68,
      "id": "2CB-t_xUkHJG",
      "metadata": {
        "colab": {
          "base_uri": "https://localhost:8080/"
        },
        "id": "2CB-t_xUkHJG",
        "outputId": "ed73b826-edc9-4fed-cc90-0a9bf24a8316"
      },
      "outputs": [
        {
          "name": "stdout",
          "output_type": "stream",
          "text": [
            "Duplicate (Confidence Value: 0.50)\n"
          ]
        }
      ],
      "source": [
        "print(predict_duplicate(\"How can I be a good programmer?\", \"What should I do to become a great coder?\"))"
      ]
    },
    {
      "cell_type": "code",
      "execution_count": 69,
      "id": "fTByY9k-TGk1",
      "metadata": {
        "colab": {
          "base_uri": "https://localhost:8080/"
        },
        "id": "fTByY9k-TGk1",
        "outputId": "7646a95a-cb09-4e5a-c401-7a5d394f7c41"
      },
      "outputs": [
        {
          "name": "stdout",
          "output_type": "stream",
          "text": [
            "Duplicate (Confidence Value: 0.82)\n"
          ]
        }
      ],
      "source": [
        "print(predict_duplicate(\"How can I be a good software engineer?\", \"What are the tips to become a successful software engineer?\"))"
      ]
    },
    {
      "cell_type": "code",
      "execution_count": 70,
      "id": "fBxU9DOxUJ9v",
      "metadata": {
        "colab": {
          "base_uri": "https://localhost:8080/"
        },
        "id": "fBxU9DOxUJ9v",
        "outputId": "2fd5f8a4-8969-432b-bc0d-e654049991b3"
      },
      "outputs": [
        {
          "name": "stdout",
          "output_type": "stream",
          "text": [
            "Not Duplicate (Confidence Value: 0.11)\n"
          ]
        }
      ],
      "source": [
        "print(predict_duplicate(\"How can I be a good software engineer?\", \"What are the tips to become a successful data engineer?\"))"
      ]
    },
    {
      "cell_type": "code",
      "execution_count": 71,
      "id": "ZZ8vMhQPXKlg",
      "metadata": {
        "colab": {
          "base_uri": "https://localhost:8080/"
        },
        "id": "ZZ8vMhQPXKlg",
        "outputId": "36ebe4bf-c8ab-476e-bb6b-df47e1ddd9f5"
      },
      "outputs": [
        {
          "name": "stdout",
          "output_type": "stream",
          "text": [
            "Duplicate (Confidence Value: 0.96)\n"
          ]
        }
      ],
      "source": [
        "print(predict_duplicate(\"Is photosynthesis same as respiration?\", \"Is respiration same as photosynthesis?\"))"
      ]
    },
    {
      "cell_type": "code",
      "execution_count": 72,
      "id": "cC7WW59SvjwK",
      "metadata": {
        "colab": {
          "base_uri": "https://localhost:8080/"
        },
        "id": "cC7WW59SvjwK",
        "outputId": "5c096062-451e-4b1c-f9f4-1227f27e3996"
      },
      "outputs": [
        {
          "name": "stdout",
          "output_type": "stream",
          "text": [
            "Q1: How can I learn machine learning?\n",
            "Q2: What is the best way to study machine learning?\n",
            "→ Prediction: Duplicate (Confidence Value: 0.65)\n",
            "\n",
            "Q1: What is the capital of France?\n",
            "Q2: Where is the Eiffel Tower located?\n",
            "→ Prediction: Not Duplicate (Confidence Value: 0.13)\n",
            "\n",
            "Q1: How do I cook pasta?\n",
            "Q2: What is the recipe to boil pasta?\n",
            "→ Prediction: Not Duplicate (Confidence Value: 0.44)\n",
            "\n",
            "Q1: What are some good books to read?\n",
            "Q2: Can you suggest me a playlist of top songs?\n",
            "→ Prediction: Not Duplicate (Confidence Value: 0.00)\n",
            "\n",
            "Q1: Why is the sky blue?\n",
            "Q2: Why does the sky appear blue in color?\n",
            "→ Prediction: Duplicate (Confidence Value: 0.72)\n",
            "\n"
          ]
        }
      ],
      "source": [
        "examples = [\n",
        "    (\"How can I learn machine learning?\", \"What is the best way to study machine learning?\"),\n",
        "    (\"What is the capital of France?\", \"Where is the Eiffel Tower located?\"),\n",
        "    (\"How do I cook pasta?\", \"What is the recipe to boil pasta?\"),\n",
        "    (\"What are some good books to read?\", \"Can you suggest me a playlist of top songs?\"),\n",
        "    (\"Why is the sky blue?\", \"Why does the sky appear blue in color?\")\n",
        "]\n",
        "\n",
        "# Run predictions\n",
        "for q1, q2 in examples:\n",
        "    result = predict_duplicate(q1, q2)\n",
        "    print(f\"Q1: {q1}\\nQ2: {q2}\\n→ Prediction: {result}\\n\")"
      ]
    },
    {
      "cell_type": "markdown",
      "id": "6Q20m9SA2Bsb",
      "metadata": {
        "id": "6Q20m9SA2Bsb"
      },
      "source": [
        "## **Testing on Custom User Input**"
      ]
    },
    {
      "cell_type": "code",
      "execution_count": null,
      "id": "JVilScZLkLw2",
      "metadata": {
        "colab": {
          "base_uri": "https://localhost:8080/"
        },
        "id": "JVilScZLkLw2",
        "outputId": "3f78f7c4-e8cf-4f9c-a9df-45c16895a0e4"
      },
      "outputs": [
        {
          "name": "stdout",
          "output_type": "stream",
          "text": [
            "Q1: How close we are to see 4th world war?\n",
            "Q2: How close is a World War IV?\n",
            "→ Prediction: Duplicate (Confidence Value: 0.72)\n",
            "\n",
            "The questions are: Duplicate (Confidence Value: 0.72)\n"
          ]
        }
      ],
      "source": [
        "# User Input Test\n",
        "q1 = input(\"Enter the first question: \")\n",
        "q2 = input(\"Enter the second question: \")\n",
        "\n",
        "result = predict_duplicate(q1, q2)\n",
        "print(f\"Q1: {q1}\\nQ2: {q2}\\n→ Prediction: {result}\\n\")"
      ]
    }
  ],
  "metadata": {
    "colab": {
      "provenance": []
    },
    "kernelspec": {
      "display_name": "venv",
      "language": "python",
      "name": "python3"
    },
    "language_info": {
      "codemirror_mode": {
        "name": "ipython",
        "version": 3
      },
      "file_extension": ".py",
      "mimetype": "text/x-python",
      "name": "python",
      "nbconvert_exporter": "python",
      "pygments_lexer": "ipython3",
      "version": "3.12.4"
    }
  },
  "nbformat": 4,
  "nbformat_minor": 5
}
