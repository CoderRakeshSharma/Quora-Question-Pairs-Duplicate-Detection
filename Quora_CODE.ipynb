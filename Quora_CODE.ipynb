{
  "cells": [
    {
      "cell_type": "markdown",
      "id": "54b7a835",
      "metadata": {
        "id": "54b7a835"
      },
      "source": [
        "# AI-ClientProject-4 --> Quora Question Pairs"
      ]
    },
    {
      "cell_type": "markdown",
      "id": "22f8cc82",
      "metadata": {
        "id": "22f8cc82"
      },
      "source": [
        "### PROJECT GOAL\n",
        "##### Create a model that can predict which of the provided pairs of questions contain two questions with the same meaning."
      ]
    },
    {
      "cell_type": "code",
      "execution_count": 19,
      "id": "tK9u6q51ALM7",
      "metadata": {
        "colab": {
          "base_uri": "https://localhost:8080/"
        },
        "id": "tK9u6q51ALM7",
        "outputId": "3ce83862-44bd-4ef2-dee3-64439a5272ef"
      },
      "outputs": [
        {
          "name": "stdout",
          "output_type": "stream",
          "text": [
            "Drive already mounted at /content/drive; to attempt to forcibly remount, call drive.mount(\"/content/drive\", force_remount=True).\n"
          ]
        }
      ],
      "source": [
        "# Mounting Google Drive\n",
        "from google.colab import drive\n",
        "drive.mount('/content/drive')"
      ]
    },
    {
      "cell_type": "code",
      "execution_count": 20,
      "id": "Nx6vMRETBIw4",
      "metadata": {
        "id": "Nx6vMRETBIw4"
      },
      "outputs": [],
      "source": [
        "# Installing libraries which are needed for loading, processing, and modeling our question-pair data.\n",
        "!pip install -q pandas numpy scikit-learn sentence-transformers"
      ]
    },
    {
      "cell_type": "code",
      "execution_count": 54,
      "id": "48daf8f6",
      "metadata": {
        "id": "48daf8f6"
      },
      "outputs": [],
      "source": [
        "# 📦 Data Handling\n",
        "import pandas as pd\n",
        "import numpy as np\n",
        "\n",
        "# 🧮 Utility Tools\n",
        "from tqdm import tqdm  # Progress bar for loops\n",
        "import warnings        # Suppress warnings\n",
        "warnings.filterwarnings(\"ignore\", category=UserWarning)\n",
        "\n",
        "# 🤗 Text Embedding / Feature Extraction\n",
        "from sentence_transformers import SentenceTransformer\n",
        "\n",
        "# 🧠 Similarity Calculation\n",
        "from sklearn.metrics.pairwise import cosine_similarity\n",
        "\n",
        "# 📊 Model Training and Evaluation\n",
        "from sklearn.model_selection import train_test_split\n",
        "from sklearn.linear_model import LogisticRegression\n",
        "from sklearn.metrics import accuracy_score, f1_score, confusion_matrix, classification_report\n",
        "\n",
        "# 💾 Model Persistence\n",
        "import joblib"
      ]
    },
    {
      "cell_type": "code",
      "execution_count": 22,
      "id": "e5401d8e",
      "metadata": {
        "colab": {
          "base_uri": "https://localhost:8080/",
          "height": 206
        },
        "id": "e5401d8e",
        "outputId": "d050cdfc-778b-4760-d70f-cb20a987d6f3"
      },
      "outputs": [
        {
          "data": {
            "application/vnd.google.colaboratory.intrinsic+json": {
              "summary": "{\n  \"name\": \"df\",\n  \"rows\": 20000,\n  \"fields\": [\n    {\n      \"column\": \"question1\",\n      \"properties\": {\n        \"dtype\": \"string\",\n        \"num_unique_values\": 19228,\n        \"samples\": [\n          \"I am preparing for CLAT I want to study for atleast 12 hours but I cant focus. How do I manage my routine and get out of this destracting situation?\",\n          \"For some dialogue I am writing, how would a teenager express that her life is in turmoil or in shambles?\",\n          \"Do I need to keep my eyes open when chanting Nam myoho renge kyo?\"\n        ],\n        \"semantic_type\": \"\",\n        \"description\": \"\"\n      }\n    },\n    {\n      \"column\": \"question2\",\n      \"properties\": {\n        \"dtype\": \"string\",\n        \"num_unique_values\": 19137,\n        \"samples\": [\n          \"How can one commit sucide?\",\n          \"What's the best answer in Quora?\",\n          \"How do I overcome embarrassment of making other's palm wet, if someone asks for handshake when my palm is sweating (its genetic problem)?\"\n        ],\n        \"semantic_type\": \"\",\n        \"description\": \"\"\n      }\n    },\n    {\n      \"column\": \"is_duplicate\",\n      \"properties\": {\n        \"dtype\": \"number\",\n        \"std\": 0,\n        \"min\": 0,\n        \"max\": 1,\n        \"num_unique_values\": 2,\n        \"samples\": [\n          1,\n          0\n        ],\n        \"semantic_type\": \"\",\n        \"description\": \"\"\n      }\n    }\n  ]\n}",
              "type": "dataframe",
              "variable_name": "df"
            },
            "text/html": [
              "\n",
              "  <div id=\"df-af157ffd-29fc-4570-8dbf-7fede5788cb9\" class=\"colab-df-container\">\n",
              "    <div>\n",
              "<style scoped>\n",
              "    .dataframe tbody tr th:only-of-type {\n",
              "        vertical-align: middle;\n",
              "    }\n",
              "\n",
              "    .dataframe tbody tr th {\n",
              "        vertical-align: top;\n",
              "    }\n",
              "\n",
              "    .dataframe thead th {\n",
              "        text-align: right;\n",
              "    }\n",
              "</style>\n",
              "<table border=\"1\" class=\"dataframe\">\n",
              "  <thead>\n",
              "    <tr style=\"text-align: right;\">\n",
              "      <th></th>\n",
              "      <th>question1</th>\n",
              "      <th>question2</th>\n",
              "      <th>is_duplicate</th>\n",
              "    </tr>\n",
              "  </thead>\n",
              "  <tbody>\n",
              "    <tr>\n",
              "      <th>8067</th>\n",
              "      <td>How do I play Pokémon GO in Korea?</td>\n",
              "      <td>How do I play Pokémon GO in China?</td>\n",
              "      <td>0</td>\n",
              "    </tr>\n",
              "    <tr>\n",
              "      <th>368101</th>\n",
              "      <td>What are some of the best side dishes for crab...</td>\n",
              "      <td>What are some good side dishes for buffalo chi...</td>\n",
              "      <td>0</td>\n",
              "    </tr>\n",
              "    <tr>\n",
              "      <th>70497</th>\n",
              "      <td>Which is more advisable and better material fo...</td>\n",
              "      <td>What is the best server setup for buddypress?</td>\n",
              "      <td>0</td>\n",
              "    </tr>\n",
              "    <tr>\n",
              "      <th>226567</th>\n",
              "      <td>How do I improve logical programming skills?</td>\n",
              "      <td>How can I improve my logical skills for progra...</td>\n",
              "      <td>1</td>\n",
              "    </tr>\n",
              "    <tr>\n",
              "      <th>73186</th>\n",
              "      <td>How close we are to see 3rd world war?</td>\n",
              "      <td>How close is a World War III?</td>\n",
              "      <td>1</td>\n",
              "    </tr>\n",
              "  </tbody>\n",
              "</table>\n",
              "</div>\n",
              "    <div class=\"colab-df-buttons\">\n",
              "\n",
              "  <div class=\"colab-df-container\">\n",
              "    <button class=\"colab-df-convert\" onclick=\"convertToInteractive('df-af157ffd-29fc-4570-8dbf-7fede5788cb9')\"\n",
              "            title=\"Convert this dataframe to an interactive table.\"\n",
              "            style=\"display:none;\">\n",
              "\n",
              "  <svg xmlns=\"http://www.w3.org/2000/svg\" height=\"24px\" viewBox=\"0 -960 960 960\">\n",
              "    <path d=\"M120-120v-720h720v720H120Zm60-500h600v-160H180v160Zm220 220h160v-160H400v160Zm0 220h160v-160H400v160ZM180-400h160v-160H180v160Zm440 0h160v-160H620v160ZM180-180h160v-160H180v160Zm440 0h160v-160H620v160Z\"/>\n",
              "  </svg>\n",
              "    </button>\n",
              "\n",
              "  <style>\n",
              "    .colab-df-container {\n",
              "      display:flex;\n",
              "      gap: 12px;\n",
              "    }\n",
              "\n",
              "    .colab-df-convert {\n",
              "      background-color: #E8F0FE;\n",
              "      border: none;\n",
              "      border-radius: 50%;\n",
              "      cursor: pointer;\n",
              "      display: none;\n",
              "      fill: #1967D2;\n",
              "      height: 32px;\n",
              "      padding: 0 0 0 0;\n",
              "      width: 32px;\n",
              "    }\n",
              "\n",
              "    .colab-df-convert:hover {\n",
              "      background-color: #E2EBFA;\n",
              "      box-shadow: 0px 1px 2px rgba(60, 64, 67, 0.3), 0px 1px 3px 1px rgba(60, 64, 67, 0.15);\n",
              "      fill: #174EA6;\n",
              "    }\n",
              "\n",
              "    .colab-df-buttons div {\n",
              "      margin-bottom: 4px;\n",
              "    }\n",
              "\n",
              "    [theme=dark] .colab-df-convert {\n",
              "      background-color: #3B4455;\n",
              "      fill: #D2E3FC;\n",
              "    }\n",
              "\n",
              "    [theme=dark] .colab-df-convert:hover {\n",
              "      background-color: #434B5C;\n",
              "      box-shadow: 0px 1px 3px 1px rgba(0, 0, 0, 0.15);\n",
              "      filter: drop-shadow(0px 1px 2px rgba(0, 0, 0, 0.3));\n",
              "      fill: #FFFFFF;\n",
              "    }\n",
              "  </style>\n",
              "\n",
              "    <script>\n",
              "      const buttonEl =\n",
              "        document.querySelector('#df-af157ffd-29fc-4570-8dbf-7fede5788cb9 button.colab-df-convert');\n",
              "      buttonEl.style.display =\n",
              "        google.colab.kernel.accessAllowed ? 'block' : 'none';\n",
              "\n",
              "      async function convertToInteractive(key) {\n",
              "        const element = document.querySelector('#df-af157ffd-29fc-4570-8dbf-7fede5788cb9');\n",
              "        const dataTable =\n",
              "          await google.colab.kernel.invokeFunction('convertToInteractive',\n",
              "                                                    [key], {});\n",
              "        if (!dataTable) return;\n",
              "\n",
              "        const docLinkHtml = 'Like what you see? Visit the ' +\n",
              "          '<a target=\"_blank\" href=https://colab.research.google.com/notebooks/data_table.ipynb>data table notebook</a>'\n",
              "          + ' to learn more about interactive tables.';\n",
              "        element.innerHTML = '';\n",
              "        dataTable['output_type'] = 'display_data';\n",
              "        await google.colab.output.renderOutput(dataTable, element);\n",
              "        const docLink = document.createElement('div');\n",
              "        docLink.innerHTML = docLinkHtml;\n",
              "        element.appendChild(docLink);\n",
              "      }\n",
              "    </script>\n",
              "  </div>\n",
              "\n",
              "\n",
              "    <div id=\"df-f8ceb45f-8bbb-4674-95aa-b5d5d033f20b\">\n",
              "      <button class=\"colab-df-quickchart\" onclick=\"quickchart('df-f8ceb45f-8bbb-4674-95aa-b5d5d033f20b')\"\n",
              "                title=\"Suggest charts\"\n",
              "                style=\"display:none;\">\n",
              "\n",
              "<svg xmlns=\"http://www.w3.org/2000/svg\" height=\"24px\"viewBox=\"0 0 24 24\"\n",
              "     width=\"24px\">\n",
              "    <g>\n",
              "        <path d=\"M19 3H5c-1.1 0-2 .9-2 2v14c0 1.1.9 2 2 2h14c1.1 0 2-.9 2-2V5c0-1.1-.9-2-2-2zM9 17H7v-7h2v7zm4 0h-2V7h2v10zm4 0h-2v-4h2v4z\"/>\n",
              "    </g>\n",
              "</svg>\n",
              "      </button>\n",
              "\n",
              "<style>\n",
              "  .colab-df-quickchart {\n",
              "      --bg-color: #E8F0FE;\n",
              "      --fill-color: #1967D2;\n",
              "      --hover-bg-color: #E2EBFA;\n",
              "      --hover-fill-color: #174EA6;\n",
              "      --disabled-fill-color: #AAA;\n",
              "      --disabled-bg-color: #DDD;\n",
              "  }\n",
              "\n",
              "  [theme=dark] .colab-df-quickchart {\n",
              "      --bg-color: #3B4455;\n",
              "      --fill-color: #D2E3FC;\n",
              "      --hover-bg-color: #434B5C;\n",
              "      --hover-fill-color: #FFFFFF;\n",
              "      --disabled-bg-color: #3B4455;\n",
              "      --disabled-fill-color: #666;\n",
              "  }\n",
              "\n",
              "  .colab-df-quickchart {\n",
              "    background-color: var(--bg-color);\n",
              "    border: none;\n",
              "    border-radius: 50%;\n",
              "    cursor: pointer;\n",
              "    display: none;\n",
              "    fill: var(--fill-color);\n",
              "    height: 32px;\n",
              "    padding: 0;\n",
              "    width: 32px;\n",
              "  }\n",
              "\n",
              "  .colab-df-quickchart:hover {\n",
              "    background-color: var(--hover-bg-color);\n",
              "    box-shadow: 0 1px 2px rgba(60, 64, 67, 0.3), 0 1px 3px 1px rgba(60, 64, 67, 0.15);\n",
              "    fill: var(--button-hover-fill-color);\n",
              "  }\n",
              "\n",
              "  .colab-df-quickchart-complete:disabled,\n",
              "  .colab-df-quickchart-complete:disabled:hover {\n",
              "    background-color: var(--disabled-bg-color);\n",
              "    fill: var(--disabled-fill-color);\n",
              "    box-shadow: none;\n",
              "  }\n",
              "\n",
              "  .colab-df-spinner {\n",
              "    border: 2px solid var(--fill-color);\n",
              "    border-color: transparent;\n",
              "    border-bottom-color: var(--fill-color);\n",
              "    animation:\n",
              "      spin 1s steps(1) infinite;\n",
              "  }\n",
              "\n",
              "  @keyframes spin {\n",
              "    0% {\n",
              "      border-color: transparent;\n",
              "      border-bottom-color: var(--fill-color);\n",
              "      border-left-color: var(--fill-color);\n",
              "    }\n",
              "    20% {\n",
              "      border-color: transparent;\n",
              "      border-left-color: var(--fill-color);\n",
              "      border-top-color: var(--fill-color);\n",
              "    }\n",
              "    30% {\n",
              "      border-color: transparent;\n",
              "      border-left-color: var(--fill-color);\n",
              "      border-top-color: var(--fill-color);\n",
              "      border-right-color: var(--fill-color);\n",
              "    }\n",
              "    40% {\n",
              "      border-color: transparent;\n",
              "      border-right-color: var(--fill-color);\n",
              "      border-top-color: var(--fill-color);\n",
              "    }\n",
              "    60% {\n",
              "      border-color: transparent;\n",
              "      border-right-color: var(--fill-color);\n",
              "    }\n",
              "    80% {\n",
              "      border-color: transparent;\n",
              "      border-right-color: var(--fill-color);\n",
              "      border-bottom-color: var(--fill-color);\n",
              "    }\n",
              "    90% {\n",
              "      border-color: transparent;\n",
              "      border-bottom-color: var(--fill-color);\n",
              "    }\n",
              "  }\n",
              "</style>\n",
              "\n",
              "      <script>\n",
              "        async function quickchart(key) {\n",
              "          const quickchartButtonEl =\n",
              "            document.querySelector('#' + key + ' button');\n",
              "          quickchartButtonEl.disabled = true;  // To prevent multiple clicks.\n",
              "          quickchartButtonEl.classList.add('colab-df-spinner');\n",
              "          try {\n",
              "            const charts = await google.colab.kernel.invokeFunction(\n",
              "                'suggestCharts', [key], {});\n",
              "          } catch (error) {\n",
              "            console.error('Error during call to suggestCharts:', error);\n",
              "          }\n",
              "          quickchartButtonEl.classList.remove('colab-df-spinner');\n",
              "          quickchartButtonEl.classList.add('colab-df-quickchart-complete');\n",
              "        }\n",
              "        (() => {\n",
              "          let quickchartButtonEl =\n",
              "            document.querySelector('#df-f8ceb45f-8bbb-4674-95aa-b5d5d033f20b button');\n",
              "          quickchartButtonEl.style.display =\n",
              "            google.colab.kernel.accessAllowed ? 'block' : 'none';\n",
              "        })();\n",
              "      </script>\n",
              "    </div>\n",
              "\n",
              "    </div>\n",
              "  </div>\n"
            ],
            "text/plain": [
              "                                                question1  \\\n",
              "8067                   How do I play Pokémon GO in Korea?   \n",
              "368101  What are some of the best side dishes for crab...   \n",
              "70497   Which is more advisable and better material fo...   \n",
              "226567       How do I improve logical programming skills?   \n",
              "73186              How close we are to see 3rd world war?   \n",
              "\n",
              "                                                question2  is_duplicate  \n",
              "8067                   How do I play Pokémon GO in China?             0  \n",
              "368101  What are some good side dishes for buffalo chi...             0  \n",
              "70497       What is the best server setup for buddypress?             0  \n",
              "226567  How can I improve my logical skills for progra...             1  \n",
              "73186                       How close is a World War III?             1  "
            ]
          },
          "execution_count": 22,
          "metadata": {},
          "output_type": "execute_result"
        }
      ],
      "source": [
        "#This step loads and reduces the dataset to a manageable size and ensures data quality.\n",
        "df = pd.read_csv(\"/content/drive/MyDrive/AI CAPSTONE PROJECT/Client Project/train.csv\") #Load the data\n",
        "df = df.sample(20000, random_state=42) #Randomly selects 20,000 rows to make training faster.\n",
        "df = df.dropna() #Removes rows with missing values (essential to avoid errors during training).\n",
        "df = df[['question1', 'question2', 'is_duplicate']] #Keeps only the relevant columns.\n",
        "df.head() #Displays the first 5 rows (useful for inspection)."
      ]
    },
    {
      "cell_type": "code",
      "execution_count": 23,
      "id": "8yIqhe9qHF6V",
      "metadata": {
        "colab": {
          "base_uri": "https://localhost:8080/",
          "height": 178
        },
        "id": "8yIqhe9qHF6V",
        "outputId": "a87b5e9a-bd5d-44c1-e7c6-3afbcbc315da"
      },
      "outputs": [
        {
          "data": {
            "text/html": [
              "<div>\n",
              "<style scoped>\n",
              "    .dataframe tbody tr th:only-of-type {\n",
              "        vertical-align: middle;\n",
              "    }\n",
              "\n",
              "    .dataframe tbody tr th {\n",
              "        vertical-align: top;\n",
              "    }\n",
              "\n",
              "    .dataframe thead th {\n",
              "        text-align: right;\n",
              "    }\n",
              "</style>\n",
              "<table border=\"1\" class=\"dataframe\">\n",
              "  <thead>\n",
              "    <tr style=\"text-align: right;\">\n",
              "      <th></th>\n",
              "      <th>count</th>\n",
              "    </tr>\n",
              "    <tr>\n",
              "      <th>is_duplicate</th>\n",
              "      <th></th>\n",
              "    </tr>\n",
              "  </thead>\n",
              "  <tbody>\n",
              "    <tr>\n",
              "      <th>0</th>\n",
              "      <td>12606</td>\n",
              "    </tr>\n",
              "    <tr>\n",
              "      <th>1</th>\n",
              "      <td>7394</td>\n",
              "    </tr>\n",
              "  </tbody>\n",
              "</table>\n",
              "</div><br><label><b>dtype:</b> int64</label>"
            ],
            "text/plain": [
              "is_duplicate\n",
              "0    12606\n",
              "1     7394\n",
              "Name: count, dtype: int64"
            ]
          },
          "execution_count": 23,
          "metadata": {},
          "output_type": "execute_result"
        }
      ],
      "source": [
        "#Counts how many duplicate vs. non-duplicate pairs exist\n",
        "df['is_duplicate'].value_counts()"
      ]
    },
    {
      "cell_type": "code",
      "execution_count": 24,
      "id": "BwCBIP2MG967",
      "metadata": {
        "colab": {
          "base_uri": "https://localhost:8080/",
          "height": 462
        },
        "id": "BwCBIP2MG967",
        "outputId": "072c8eee-8261-4825-ae4c-d3802f1582cf"
      },
      "outputs": [
        {
          "data": {
            "text/plain": [
              "<Axes: xlabel='is_duplicate'>"
            ]
          },
          "execution_count": 24,
          "metadata": {},
          "output_type": "execute_result"
        },
        {
          "data": {
            "image/png": "[encoded data removed]",
            "text/plain": [
              "<Figure size 640x480 with 1 Axes>"
            ]
          },
          "metadata": {},
          "output_type": "display_data"
        }
      ],
      "source": [
        "#Bar plot showing how many duplicate (1) vs. non-duplicate (0) question pairs exist.\n",
        "df['is_duplicate'].value_counts().plot(kind='bar')"
      ]
    },
    {
      "cell_type": "code",
      "execution_count": 25,
      "id": "TqOUraSyfJk6",
      "metadata": {
        "id": "TqOUraSyfJk6"
      },
      "outputs": [],
      "source": [
        "#This step transforms each question pair into numerical features that can be fed to a machine learning model.\n",
        "embedder = SentenceTransformer('all-mpnet-base-v2')"
      ]
    },
    {
      "cell_type": "code",
      "execution_count": null,
      "id": "4vkr7qi8fcOS",
      "metadata": {
        "id": "4vkr7qi8fcOS"
      },
      "outputs": [],
      "source": [
        "def extract_features(q1, q2):\n",
        "    # 🔤 Generate sentence embeddings\n",
        "    vec1 = embedder.encode([q1])\n",
        "    vec2 = embedder.encode([q2])\n",
        "\n",
        "    # 📏 Compute cosine similarity between embeddings\n",
        "    cos_sim = cosine_similarity(vec1, vec2)[0][0]\n",
        "\n",
        "    # 🔡 Token-based features\n",
        "    tokens1 = set(q1.lower().split())\n",
        "    tokens2 = set(q2.lower().split())\n",
        "\n",
        "    # 🔁 Common words ratio\n",
        "    common_words_ratio = len(tokens1 & tokens2) / max(len(tokens1 | tokens2), 1)\n",
        "\n",
        "    # 📏 Absolute character length difference\n",
        "    abs_len_diff = abs(len(q1) - len(q2))\n",
        "\n",
        "    return [cos_sim, common_words_ratio, abs_len_diff]"
      ]
    },
    {
      "cell_type": "code",
      "execution_count": 27,
      "id": "aJJ0Xt_SSe2j",
      "metadata": {
        "colab": {
          "base_uri": "https://localhost:8080/"
        },
        "id": "aJJ0Xt_SSe2j",
        "outputId": "9d560eec-581e-48a0-cf03-6a906c74ea0f"
      },
      "outputs": [
        {
          "name": "stderr",
          "output_type": "stream",
          "text": [
            "100%|██████████| 20000/20000 [1:31:16<00:00,  3.65it/s]\n"
          ]
        }
      ],
      "source": [
        "# Extract features\n",
        "features = []\n",
        "for q1, q2 in tqdm(zip(df['question1'], df['question2']), total=len(df)):\n",
        "    features.append(extract_features(q1, q2))"
      ]
    },
    {
      "cell_type": "code",
      "execution_count": 28,
      "id": "ScOMp_vWSs85",
      "metadata": {
        "id": "ScOMp_vWSs85"
      },
      "outputs": [],
      "source": [
        "# Convert to DataFrame\n",
        "X = pd.DataFrame(features, columns=[\"cos_sim\", \"common_words_ratio\", \"abs_len_diff\"])\n",
        "y = df['is_duplicate'].values"
      ]
    },
    {
      "cell_type": "code",
      "execution_count": 68,
      "id": "8su84PKuS62L",
      "metadata": {
        "id": "8su84PKuS62L"
      },
      "outputs": [],
      "source": [
        "#Splits data into 80% training and 20% testing.\n",
        "X_train, X_test, y_train, y_test = train_test_split(X, y, test_size=0.2, random_state=42)\n",
        "#Training the Model\n",
        "model = LogisticRegression(class_weight='balanced')  # better for imbalanced dataset\n",
        "#Fits the model on the training data.\n",
        "model.fit(X_train, y_train)\n",
        "y_pred = model.predict(X_test) #Predicts on the test set"
      ]
    },
    {
      "cell_type": "markdown",
      "id": "0yG1YXHy1lGX",
      "metadata": {
        "id": "0yG1YXHy1lGX"
      },
      "source": [
        "## **Model Evaluation**"
      ]
    },
    {
      "cell_type": "code",
      "execution_count": 78,
      "id": "glRzsq331z1U",
      "metadata": {
        "colab": {
          "base_uri": "https://localhost:8080/"
        },
        "id": "glRzsq331z1U",
        "outputId": "750b5d2c-b0f2-42ef-f815-ab9f5be68efb"
      },
      "outputs": [
        {
          "name": "stdout",
          "output_type": "stream",
          "text": [
            "\n",
            " Accuracy: 0.8085\n",
            "\n",
            " F1 Score: 0.7745732783990583\n",
            "\n",
            " Confusion Matrix:\n",
            " [[1918  578]\n",
            " [ 188 1316]]\n",
            "\n",
            " Classification Report:\n",
            "               precision    recall  f1-score   support\n",
            "\n",
            "           0       0.91      0.77      0.83      2496\n",
            "           1       0.69      0.88      0.77      1504\n",
            "\n",
            "    accuracy                           0.81      4000\n",
            "   macro avg       0.80      0.82      0.80      4000\n",
            "weighted avg       0.83      0.81      0.81      4000\n",
            "\n"
          ]
        }
      ],
      "source": [
        "print(\"\\n Accuracy:\", accuracy_score(y_test, y_pred))\n",
        "print(\"\\n F1 Score:\", f1_score(y_test, y_pred))\n",
        "print(\"\\n Confusion Matrix:\\n\", confusion_matrix(y_test, y_pred))\n",
        "print(\"\\n Classification Report:\\n\", classification_report(y_test, y_pred))"
      ]
    },
    {
      "cell_type": "code",
      "execution_count": 79,
      "id": "9oSwOmEEV9k7",
      "metadata": {
        "colab": {
          "base_uri": "https://localhost:8080/"
        },
        "id": "9oSwOmEEV9k7",
        "outputId": "e6e50791-23a2-4b7c-b200-f420308f80ca"
      },
      "outputs": [
        {
          "data": {
            "text/plain": [
              "['/content/drive/MyDrive/AI CAPSTONE PROJECT/Client Project/best_model.pkl']"
            ]
          },
          "execution_count": 79,
          "metadata": {},
          "output_type": "execute_result"
        }
      ],
      "source": [
        "# Save model\n",
        "joblib.dump(model, '/content/drive/MyDrive/AI CAPSTONE PROJECT/Client Project/best_model.pkl')"
      ]
    },
    {
      "cell_type": "code",
      "execution_count": 80,
      "id": "aXEGt82gWSXy",
      "metadata": {
        "id": "aXEGt82gWSXy"
      },
      "outputs": [],
      "source": [
        "# Load model\n",
        "my_model = joblib.load('/content/drive/MyDrive/AI CAPSTONE PROJECT/Client Project/best_model.pkl')"
      ]
    },
    {
      "cell_type": "code",
      "execution_count": 81,
      "id": "zbJKiAinj795",
      "metadata": {
        "id": "zbJKiAinj795"
      },
      "outputs": [],
      "source": [
        "def predict_duplicate(q1, q2):\n",
        "    \"\"\"\n",
        "    Predict whether two questions are duplicates using the trained model.\n",
        "    \"\"\"\n",
        "    # Extract features and reshape for model input\n",
        "    features = np.array(extract_features(q1, q2)).reshape(1, -1)\n",
        "\n",
        "    # Predict using the trained model\n",
        "    pred = my_model.predict_proba(features)[0][1]\n",
        "    label = \"Duplicate\" if pred >= 0.5 else \"Not Duplicate\"\n",
        "\n",
        "    # Return human-readable result\n",
        "    return f\"{label} (Confidence Value: {pred:.2f})\"\n"
      ]
    },
    {
      "cell_type": "markdown",
      "id": "jD3c9yW-yGZZ",
      "metadata": {
        "id": "jD3c9yW-yGZZ"
      },
      "source": [
        "## **Testing The Performance Of Our Model**\n",
        "##### Note: - If Confidence Value is below 0.5 then the Model will Predict the result as not Duplicate"
      ]
    },
    {
      "cell_type": "code",
      "execution_count": 82,
      "id": "2CB-t_xUkHJG",
      "metadata": {
        "colab": {
          "base_uri": "https://localhost:8080/"
        },
        "id": "2CB-t_xUkHJG",
        "outputId": "ed73b826-edc9-4fed-cc90-0a9bf24a8316"
      },
      "outputs": [
        {
          "name": "stdout",
          "output_type": "stream",
          "text": [
            "Duplicate (Confidence Value: 0.70)\n"
          ]
        }
      ],
      "source": [
        "print(predict_duplicate(\"How can I be a good programmer?\", \"What should I do to become a great coder?\"))"
      ]
    },
    {
      "cell_type": "code",
      "execution_count": 83,
      "id": "fTByY9k-TGk1",
      "metadata": {
        "colab": {
          "base_uri": "https://localhost:8080/"
        },
        "id": "fTByY9k-TGk1",
        "outputId": "7646a95a-cb09-4e5a-c401-7a5d394f7c41"
      },
      "outputs": [
        {
          "name": "stdout",
          "output_type": "stream",
          "text": [
            "Duplicate (Confidence Value: 0.89)\n"
          ]
        }
      ],
      "source": [
        "print(predict_duplicate(\"How can I be a good software engineer?\", \"What are the tips to become a successful software engineer?\"))"
      ]
    },
    {
      "cell_type": "code",
      "execution_count": 84,
      "id": "fBxU9DOxUJ9v",
      "metadata": {
        "colab": {
          "base_uri": "https://localhost:8080/"
        },
        "id": "fBxU9DOxUJ9v",
        "outputId": "2fd5f8a4-8969-432b-bc0d-e654049991b3"
      },
      "outputs": [
        {
          "name": "stdout",
          "output_type": "stream",
          "text": [
            "Not Duplicate (Confidence Value: 0.29)\n"
          ]
        }
      ],
      "source": [
        "print(predict_duplicate(\"How can I be a good software engineer?\", \"What are the tips to become a successful data engineer?\"))"
      ]
    },
    {
      "cell_type": "code",
      "execution_count": 85,
      "id": "ZZ8vMhQPXKlg",
      "metadata": {
        "colab": {
          "base_uri": "https://localhost:8080/"
        },
        "id": "ZZ8vMhQPXKlg",
        "outputId": "36ebe4bf-c8ab-476e-bb6b-df47e1ddd9f5"
      },
      "outputs": [
        {
          "name": "stdout",
          "output_type": "stream",
          "text": [
            "Duplicate (Confidence Value: 0.94)\n"
          ]
        }
      ],
      "source": [
        "print(predict_duplicate(\"Is photosynthesis same as respiration?\", \"Is respiration same as photosynthesis?\"))"
      ]
    },
    {
      "cell_type": "code",
      "execution_count": 86,
      "id": "cC7WW59SvjwK",
      "metadata": {
        "colab": {
          "base_uri": "https://localhost:8080/"
        },
        "id": "cC7WW59SvjwK",
        "outputId": "5c096062-451e-4b1c-f9f4-1227f27e3996"
      },
      "outputs": [
        {
          "name": "stdout",
          "output_type": "stream",
          "text": [
            "Q1: How can I learn machine learning?\n",
            "Q2: What is the best way to study machine learning?\n",
            "→ Prediction: Duplicate (Confidence Value: 0.81)\n",
            "\n",
            "Q1: What is the capital of France?\n",
            "Q2: Where is the Eiffel Tower located?\n",
            "→ Prediction: Not Duplicate (Confidence Value: 0.21)\n",
            "\n",
            "Q1: How do I cook pasta?\n",
            "Q2: What is the recipe to boil pasta?\n",
            "→ Prediction: Duplicate (Confidence Value: 0.80)\n",
            "\n",
            "Q1: What are some good books to read?\n",
            "Q2: Can you suggest me a playlist of top songs?\n",
            "→ Prediction: Not Duplicate (Confidence Value: 0.01)\n",
            "\n",
            "Q1: Why is the sky blue?\n",
            "Q2: Why does the sky appear blue in color?\n",
            "→ Prediction: Duplicate (Confidence Value: 0.79)\n",
            "\n"
          ]
        }
      ],
      "source": [
        "examples = [\n",
        "    (\"How can I learn machine learning?\", \"What is the best way to study machine learning?\"),\n",
        "    (\"What is the capital of France?\", \"Where is the Eiffel Tower located?\"),\n",
        "    (\"How do I cook pasta?\", \"What is the recipe to boil pasta?\"),\n",
        "    (\"What are some good books to read?\", \"Can you suggest me a playlist of top songs?\"),\n",
        "    (\"Why is the sky blue?\", \"Why does the sky appear blue in color?\")\n",
        "]\n",
        "\n",
        "# Run predictions\n",
        "for q1, q2 in examples:\n",
        "    result = predict_duplicate(q1, q2)\n",
        "    print(f\"Q1: {q1}\\nQ2: {q2}\\n→ Prediction: {result}\\n\")"
      ]
    },
    {
      "cell_type": "markdown",
      "id": "6Q20m9SA2Bsb",
      "metadata": {
        "id": "6Q20m9SA2Bsb"
      },
      "source": [
        "## **Testing on Custom User Input**"
      ]
    },
    {
      "cell_type": "code",
      "execution_count": 52,
      "id": "JVilScZLkLw2",
      "metadata": {
        "colab": {
          "base_uri": "https://localhost:8080/"
        },
        "id": "JVilScZLkLw2",
        "outputId": "3f78f7c4-e8cf-4f9c-a9df-45c16895a0e4"
      },
      "outputs": [
        {
          "name": "stdout",
          "output_type": "stream",
          "text": [
            "Enter the first question: How close we are to see 4th world war?\n",
            "Enter the second question: How close is a World War IV?\n",
            "The questions are: Duplicate (Confidence Value: 0.80)\n"
          ]
        }
      ],
      "source": [
        "# User Input Test\n",
        "q1 = input(\"Enter the first question: \")\n",
        "q2 = input(\"Enter the second question: \")\n",
        "\n",
        "result = predict_duplicate(q1, q2)\n",
        "print(\"The questions are:\", result)"
      ]
    }
  ],
  "metadata": {
    "colab": {
      "provenance": []
    },
    "kernelspec": {
      "display_name": "Python 3",
      "language": "python",
      "name": "python3"
    },
    "language_info": {
      "codemirror_mode": {
        "name": "ipython",
        "version": 3
      },
      "file_extension": ".py",
      "mimetype": "text/x-python",
      "name": "python",
      "nbconvert_exporter": "python",
      "pygments_lexer": "ipython3",
      "version": "3.12.4"
    }
  },
  "nbformat": 4,
  "nbformat_minor": 5
}
